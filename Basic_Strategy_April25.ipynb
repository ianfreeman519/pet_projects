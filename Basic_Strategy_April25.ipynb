{
 "cells": [
  {
   "cell_type": "code",
   "execution_count": 1,
   "metadata": {},
   "outputs": [],
   "source": [
    "from utils import *"
   ]
  },
  {
   "cell_type": "code",
   "execution_count": 19,
   "metadata": {},
   "outputs": [
    {
     "name": "stdout",
     "output_type": "stream",
     "text": [
      "Hand ['2', '9'] has possible values [11]\n"
     ]
    }
   ],
   "source": [
    "shoe = create_shoe()\n",
    "hand, shoe = deal(shoe, 2)\n",
    "print(f\"Hand {hand} \", end=\"\")\n",
    "totals = hand_values(hand)\n",
    "\n",
    "print(f\"has possible values {totals}\")"
   ]
  }
 ],
 "metadata": {
  "kernelspec": {
   "display_name": "april25",
   "language": "python",
   "name": "python3"
  },
  "language_info": {
   "codemirror_mode": {
    "name": "ipython",
    "version": 3
   },
   "file_extension": ".py",
   "mimetype": "text/x-python",
   "name": "python",
   "nbconvert_exporter": "python",
   "pygments_lexer": "ipython3",
   "version": "3.13.2"
  }
 },
 "nbformat": 4,
 "nbformat_minor": 2
}
